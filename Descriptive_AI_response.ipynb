{
  "nbformat": 4,
  "nbformat_minor": 0,
  "metadata": {
    "colab": {
      "provenance": [],
      "authorship_tag": "ABX9TyPdhK5wFC9Hvat2pZ7SbXAx",
      "include_colab_link": true
    },
    "kernelspec": {
      "name": "python3",
      "display_name": "Python 3"
    },
    "language_info": {
      "name": "python"
    }
  },
  "cells": [
    {
      "cell_type": "markdown",
      "metadata": {
        "id": "view-in-github",
        "colab_type": "text"
      },
      "source": [
        "<a href=\"https://colab.research.google.com/github/AdarshKammar/Python/blob/main/Descriptive_AI_response.ipynb\" target=\"_parent\"><img src=\"https://colab.research.google.com/assets/colab-badge.svg\" alt=\"Open In Colab\"/></a>"
      ]
    },
    {
      "cell_type": "code",
      "execution_count": 1,
      "metadata": {
        "colab": {
          "base_uri": "https://localhost:8080/"
        },
        "id": "mjWCtOj_X5a-",
        "outputId": "427df01d-6561-4c25-e547-f80419138088"
      },
      "outputs": [
        {
          "output_type": "stream",
          "name": "stdout",
          "text": [
            "Today's weather is partly cloudy with a high of 25°C and a low of 18°C.\n"
          ]
        }
      ],
      "source": [
        "def descriptive_ai_response(prompt):\n",
        "    \"\"\"\n",
        "    Simulates a Descriptive AI response by analyzing and summarizing existing data.\n",
        "    \"\"\"\n",
        "    responses = {\n",
        "        \"weather\": \"Today's weather is partly cloudy with a high of 25°C and a low of 18°C.\",\n",
        "        \"stock market\": \"The stock market showed a positive trend today, with the S&P 500 gaining 1.2%.\",\n",
        "        \"sports\": \"In the latest football match, Team A secured a 2-1 victory over Team B.\",\n",
        "        \"health\": \"A balanced diet and regular exercise are key to maintaining good health.\"\n",
        "    }\n",
        "\n",
        "    for key in responses:\n",
        "        if key in prompt.lower():\n",
        "            return responses[key]\n",
        "\n",
        "    return \"I can summarize information, but I need a more specific prompt.\"\n",
        "\n",
        "# Example usage:\n",
        "print(descriptive_ai_response(\"Tell me about today's weather\"))\n"
      ]
    }
  ]
}