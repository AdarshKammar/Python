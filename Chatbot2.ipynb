{
  "nbformat": 4,
  "nbformat_minor": 0,
  "metadata": {
    "colab": {
      "provenance": [],
      "authorship_tag": "ABX9TyMMrW1Q43sVIkKRhIgUzOyI",
      "include_colab_link": true
    },
    "kernelspec": {
      "name": "python3",
      "display_name": "Python 3"
    },
    "language_info": {
      "name": "python"
    }
  },
  "cells": [
    {
      "cell_type": "markdown",
      "metadata": {
        "id": "view-in-github",
        "colab_type": "text"
      },
      "source": [
        "<a href=\"https://colab.research.google.com/github/AdarshKammar/Python/blob/main/Chatbot2.ipynb\" target=\"_parent\"><img src=\"https://colab.research.google.com/assets/colab-badge.svg\" alt=\"Open In Colab\"/></a>"
      ]
    },
    {
      "cell_type": "code",
      "execution_count": null,
      "metadata": {
        "colab": {
          "base_uri": "https://localhost:8080/"
        },
        "id": "JcZInqWha8HA",
        "outputId": "8926e5d1-be0a-47fb-bd43-4dc4719e5b26"
      },
      "outputs": [
        {
          "output_type": "stream",
          "name": "stderr",
          "text": [
            "Device set to use cpu\n"
          ]
        },
        {
          "output_type": "stream",
          "name": "stdout",
          "text": [
            "Chatbot: Hello! How can I help you?\n",
            "You: hi\n",
            "Chatbot: Hi there!\n",
            "You: time\n",
            "Chatbot: The current time in IST is 06:01:11 PM.\n",
            "You: joke\n",
            "Chatbot: What's brown and sticky? A stick!\n"
          ]
        }
      ],
      "source": [
        "from transformers import pipeline\n",
        "import datetime\n",
        "import random\n",
        "import pytz\n",
        "\n",
        "# Initialize the chatbot pipeline with the specified model\n",
        "classifier = pipeline(\"zero-shot-classification\", model=\"facebook/bart-large-mnli\")\n",
        "\n",
        "def greet():\n",
        "    greetings = [\"Hello!\", \"Hi there!\", \"Hey!\", \"Greetings!\"]\n",
        "    return random.choice(greetings)\n",
        "\n",
        "def tell_time():\n",
        "    ist = pytz.timezone('Asia/Kolkata')  # Define IST timezone\n",
        "    now = datetime.datetime.now(ist)  # Get current time in IST\n",
        "    current_time = now.strftime(\"%I:%M:%S %p\")  # Format as HH:MM:SS AM/PM\n",
        "    return f\"The current time in IST is {current_time}.\"\n",
        "\n",
        "def tell_joke():\n",
        "    jokes = [\n",
        "        \"Why don't scientists trust atoms? Because they make up everything!\",\n",
        "        \"What do you call a lazy kangaroo? Pouch potato!\",\n",
        "        \"Why did the bicycle fall over? Because it was two tired!\",\n",
        "        \"What's brown and sticky? A stick!\",\n",
        "        \"Why did the scarecrow win an award? Because he was outstanding in his field!\"\n",
        "    ]\n",
        "    return random.choice(jokes)\n",
        "\n",
        "def chatbot_response(user_input):\n",
        "    # Simple keyword-based intent recognition (can be improved with more sophisticated NLP)\n",
        "    user_input = user_input.lower()\n",
        "\n",
        "    if \"time\" in user_input:\n",
        "        return tell_time()\n",
        "    elif \"joke\" in user_input:\n",
        "        return tell_joke()\n",
        "    elif any(greeting in user_input for greeting in [\"hello\", \"hi\", \"hey\", \"greetings\"]):\n",
        "        return greet()\n",
        "    else:\n",
        "      #  More advanced intent classification using the model\n",
        "        candidate_labels = [\"time\", \"joke\", \"greeting\", \"other\"] #add \"other\"\n",
        "        classified = classifier(user_input, candidate_labels)\n",
        "        #print(classified) #For debugging, uncomment to see the classification results\n",
        "        predicted_label = classified['labels']\n",
        "\n",
        "        if predicted_label == \"time\":\n",
        "            return tell_time()\n",
        "        elif predicted_label == \"joke\":\n",
        "            return tell_joke()\n",
        "        elif predicted_label == \"greeting\":\n",
        "            return greet()\n",
        "        else:\n",
        "            return \"I'm still learning. I can tell you the time or a joke. What would you like?\" # Improved default message\n",
        "\n",
        "# Main interaction loop\n",
        "print(\"Chatbot: Hello! How can I help you?\")\n",
        "while True:\n",
        "    user_input = input(\"You: \")\n",
        "    if user_input.lower() in [\"exit\", \"quit\", \"bye\"]:\n",
        "        print(\"Chatbot: Goodbye!\")\n",
        "        break\n",
        "    else:\n",
        "        response = chatbot_response(user_input)\n",
        "        print(\"Chatbot:\", response)"
      ]
    }
  ]
}