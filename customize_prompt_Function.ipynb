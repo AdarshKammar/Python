{
  "nbformat": 4,
  "nbformat_minor": 0,
  "metadata": {
    "colab": {
      "provenance": [],
      "authorship_tag": "ABX9TyOTjDdr/tx1lERJkmVFgTNV",
      "include_colab_link": true
    },
    "kernelspec": {
      "name": "python3",
      "display_name": "Python 3"
    },
    "language_info": {
      "name": "python"
    }
  },
  "cells": [
    {
      "cell_type": "markdown",
      "metadata": {
        "id": "view-in-github",
        "colab_type": "text"
      },
      "source": [
        "<a href=\"https://colab.research.google.com/github/AdarshKammar/Python/blob/main/customize_prompt_Function.ipynb\" target=\"_parent\"><img src=\"https://colab.research.google.com/assets/colab-badge.svg\" alt=\"Open In Colab\"/></a>"
      ]
    },
    {
      "cell_type": "code",
      "execution_count": 1,
      "metadata": {
        "colab": {
          "base_uri": "https://localhost:8080/"
        },
        "id": "PDfpcdIxcnKL",
        "outputId": "dd8bfa09-cc9d-4b11-dfbc-51155e0890ce"
      },
      "outputs": [
        {
          "output_type": "stream",
          "name": "stdout",
          "text": [
            "Explain how Artificial Intelligence in Healthcare is impacting various industries. Focus on key aspects such as machine learning, diagnosis, patient care, automation. Provide real-world examples and discuss potential benefits and challenges. Ensure the response is informative, detailed, and well-structured.\n"
          ]
        }
      ],
      "source": [
        "def customize_prompt(topic, keywords):\n",
        "    \"\"\"\n",
        "    Generates a structured prompt based on the given topic and keywords.\n",
        "\n",
        "    Args:\n",
        "        topic (str): The main topic for the prompt.\n",
        "        keywords (list): A list of important keywords to include in the prompt.\n",
        "\n",
        "    Returns:\n",
        "        str: A well-structured customized prompt.\n",
        "    \"\"\"\n",
        "    # Creating a formatted keyword string\n",
        "    keyword_str = \", \".join(keywords)\n",
        "\n",
        "    # Structuring the customized prompt\n",
        "    prompt = (f\"Explain how {topic} is impacting various industries. Focus on key aspects such as {keyword_str}. \"\n",
        "              f\"Provide real-world examples and discuss potential benefits and challenges. \"\n",
        "              f\"Ensure the response is informative, detailed, and well-structured.\")\n",
        "\n",
        "    return prompt\n",
        "\n",
        "# Example usage:\n",
        "topic = \"Artificial Intelligence in Healthcare\"\n",
        "keywords = [\"machine learning\", \"diagnosis\", \"patient care\", \"automation\"]\n",
        "\n",
        "generated_prompt = customize_prompt(topic, keywords)\n",
        "print(generated_prompt)\n"
      ]
    }
  ]
}