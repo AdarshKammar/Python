{
  "nbformat": 4,
  "nbformat_minor": 0,
  "metadata": {
    "colab": {
      "provenance": [],
      "authorship_tag": "ABX9TyN3MIrvHUEQ9FOWp8YMdpSW",
      "include_colab_link": true
    },
    "kernelspec": {
      "name": "python3",
      "display_name": "Python 3"
    },
    "language_info": {
      "name": "python"
    }
  },
  "cells": [
    {
      "cell_type": "markdown",
      "metadata": {
        "id": "view-in-github",
        "colab_type": "text"
      },
      "source": [
        "<a href=\"https://colab.research.google.com/github/AdarshKammar/Python/blob/main/python_basics.ipynb\" target=\"_parent\"><img src=\"https://colab.research.google.com/assets/colab-badge.svg\" alt=\"Open In Colab\"/></a>"
      ]
    },
    {
      "cell_type": "code",
      "execution_count": null,
      "metadata": {
        "id": "enbzlrT1_xXN"
      },
      "outputs": [],
      "source": [
        "# @title ADARSH\n",
        "'python basics'\n",
        "\n",
        "#data types\n",
        "'''\n",
        "integer\n",
        "string\n",
        "float\n",
        "boolean'''\n",
        "\n"
      ]
    },
    {
      "cell_type": "code",
      "source": [
        "# @title String\n",
        "a=\"India\"\n",
        "# print(A) error will occur because python is case sensitive\n",
        "print(a)\n",
        "print(type(a)) # type(a) declares that what is the data type of a that is 'str'"
      ],
      "metadata": {
        "colab": {
          "base_uri": "https://localhost:8080/"
        },
        "id": "9EPvzWobAUJI",
        "outputId": "f047cd25-0eb9-45d9-8b5b-b58d1220fb09"
      },
      "execution_count": 3,
      "outputs": [
        {
          "output_type": "stream",
          "name": "stdout",
          "text": [
            "India\n",
            "<class 'str'>\n"
          ]
        }
      ]
    },
    {
      "cell_type": "code",
      "source": [
        "# @title Integer\n",
        "a=12\n",
        "# print(A) error will occur because python is case sensitive\n",
        "print(a)\n",
        "print(type(a)) # type(a) declares that what is the data type of a that is 'int'"
      ],
      "metadata": {
        "colab": {
          "base_uri": "https://localhost:8080/"
        },
        "id": "t2ZhcGO2Btie",
        "outputId": "ecf67fa8-4fe5-47d2-8372-45e2d7973a03"
      },
      "execution_count": 4,
      "outputs": [
        {
          "output_type": "stream",
          "name": "stdout",
          "text": [
            "12\n",
            "<class 'int'>\n"
          ]
        }
      ]
    },
    {
      "cell_type": "code",
      "source": [
        "# @title Float\n",
        "a=12.05\n",
        "print(a)\n",
        "print(type(a)) # type(a) declares that what is the data type of a that is 'float'"
      ],
      "metadata": {
        "colab": {
          "base_uri": "https://localhost:8080/"
        },
        "id": "cy9eCJV_CJFC",
        "outputId": "64eed281-1fe1-4093-8acd-db4793177fbe"
      },
      "execution_count": 5,
      "outputs": [
        {
          "output_type": "stream",
          "name": "stdout",
          "text": [
            "12.05\n",
            "<class 'float'>\n"
          ]
        }
      ]
    },
    {
      "cell_type": "code",
      "source": [
        "# @title Boolean\n",
        "a=7\n",
        "b=8\n",
        "c=(a>b) # type(a) declares that what is the data type of a that is 'boolean'\n",
        "print(c)"
      ],
      "metadata": {
        "colab": {
          "base_uri": "https://localhost:8080/"
        },
        "id": "tHdOALdsCO3N",
        "outputId": "39c81a7d-85ab-45d1-94e7-2a7623cf4d8c"
      },
      "execution_count": 6,
      "outputs": [
        {
          "output_type": "stream",
          "name": "stdout",
          "text": [
            "False\n"
          ]
        }
      ]
    },
    {
      "cell_type": "code",
      "source": [
        "# @title Boolean\n",
        "a=9\n",
        "b=8\n",
        "c=(a>b) # type(a) declares that what is the data type of a that is 'boolean'\n",
        "print(c)"
      ],
      "metadata": {
        "colab": {
          "base_uri": "https://localhost:8080/"
        },
        "id": "wuHEPUGbC0Qq",
        "outputId": "ed21509f-8351-4a2c-86ea-57c9050ffc7a"
      },
      "execution_count": 7,
      "outputs": [
        {
          "output_type": "stream",
          "name": "stdout",
          "text": [
            "True\n"
          ]
        }
      ]
    },
    {
      "cell_type": "code",
      "source": [
        "# @title Double quotes \" \"\n",
        "print(\"This is GENERATIVE AI\")"
      ],
      "metadata": {
        "colab": {
          "base_uri": "https://localhost:8080/"
        },
        "id": "x8sL3Z44DGbB",
        "outputId": "a8fe7e64-e45a-4ab9-cdc6-0b139022cc78"
      },
      "execution_count": 8,
      "outputs": [
        {
          "output_type": "stream",
          "name": "stdout",
          "text": [
            "This is GENERATIVE AI\n"
          ]
        }
      ]
    },
    {
      "cell_type": "code",
      "source": [
        "# @title Single quotes ' '\n",
        "print('This is GENERATIVE AI')"
      ],
      "metadata": {
        "colab": {
          "base_uri": "https://localhost:8080/"
        },
        "id": "QO2IunYPDrxI",
        "outputId": "67d19b72-25ff-41c0-bd18-8f7f1d5ce857"
      },
      "execution_count": 10,
      "outputs": [
        {
          "output_type": "stream",
          "name": "stdout",
          "text": [
            "This is GENERATIVE AI\n"
          ]
        }
      ]
    },
    {
      "cell_type": "code",
      "source": [
        "# @title Operators\n",
        "\n",
        "# +,-,*,/,%,//,**\n",
        "\n",
        "a=11\n",
        "b=5\n",
        "print(a+b)\n"
      ],
      "metadata": {
        "colab": {
          "base_uri": "https://localhost:8080/"
        },
        "id": "7xmFl_lLDxp9",
        "outputId": "fcdacf9e-2269-4a60-d897-82393417eebc"
      },
      "execution_count": 11,
      "outputs": [
        {
          "output_type": "stream",
          "name": "stdout",
          "text": [
            "16\n"
          ]
        }
      ]
    },
    {
      "cell_type": "code",
      "source": [
        "a=11\n",
        "b=5\n",
        "print(a-b)"
      ],
      "metadata": {
        "colab": {
          "base_uri": "https://localhost:8080/"
        },
        "id": "1AQRq-aRFXqW",
        "outputId": "9108cbc2-e40e-44ad-d0ff-f4b06e51ac33"
      },
      "execution_count": 12,
      "outputs": [
        {
          "output_type": "stream",
          "name": "stdout",
          "text": [
            "6\n"
          ]
        }
      ]
    },
    {
      "cell_type": "code",
      "source": [
        "a=11\n",
        "b=5\n",
        "print(a*b)"
      ],
      "metadata": {
        "colab": {
          "base_uri": "https://localhost:8080/"
        },
        "id": "LMcMQYceFcHK",
        "outputId": "1ae82dd5-0a76-4617-eeaa-9432a2407918"
      },
      "execution_count": 13,
      "outputs": [
        {
          "output_type": "stream",
          "name": "stdout",
          "text": [
            "55\n"
          ]
        }
      ]
    },
    {
      "cell_type": "code",
      "source": [
        "a=11\n",
        "b=5\n",
        "print(a/b)"
      ],
      "metadata": {
        "colab": {
          "base_uri": "https://localhost:8080/"
        },
        "id": "9Vbs2WyrFdta",
        "outputId": "403e246b-b07e-4445-c8b6-4aad64381c0d"
      },
      "execution_count": 14,
      "outputs": [
        {
          "output_type": "stream",
          "name": "stdout",
          "text": [
            "2.2\n"
          ]
        }
      ]
    },
    {
      "cell_type": "code",
      "source": [
        "a=11\n",
        "b=5\n",
        "print(a%b)"
      ],
      "metadata": {
        "colab": {
          "base_uri": "https://localhost:8080/"
        },
        "id": "XQF1ng2WFfkF",
        "outputId": "53e72b36-f85d-4fcd-dd02-d63c2794f71a"
      },
      "execution_count": 15,
      "outputs": [
        {
          "output_type": "stream",
          "name": "stdout",
          "text": [
            "1\n"
          ]
        }
      ]
    },
    {
      "cell_type": "code",
      "source": [
        "a=11\n",
        "b=5\n",
        "print(a//b)"
      ],
      "metadata": {
        "colab": {
          "base_uri": "https://localhost:8080/"
        },
        "id": "7FQ1DWiiFh6Z",
        "outputId": "e3d2cd13-24d1-4b90-87b5-57700eef46a7"
      },
      "execution_count": 16,
      "outputs": [
        {
          "output_type": "stream",
          "name": "stdout",
          "text": [
            "2\n"
          ]
        }
      ]
    },
    {
      "cell_type": "code",
      "source": [
        "a=11\n",
        "b=5\n",
        "print(a**b) # a to the power of b that means 11 to the power 5 (11 multiples 5 times)"
      ],
      "metadata": {
        "colab": {
          "base_uri": "https://localhost:8080/"
        },
        "id": "x72eGn8cFjhP",
        "outputId": "f2f977f3-dce5-43ae-c314-d496a5291030"
      },
      "execution_count": 18,
      "outputs": [
        {
          "output_type": "stream",
          "name": "stdout",
          "text": [
            "161051\n"
          ]
        }
      ]
    },
    {
      "cell_type": "code",
      "source": [
        "# @title Assignment Operator\n",
        "\n",
        "a=20\n",
        "a +=5 #a=a+5\n",
        "print(a)"
      ],
      "metadata": {
        "colab": {
          "base_uri": "https://localhost:8080/"
        },
        "id": "rToXy-DZFlsK",
        "outputId": "16a8d93f-1908-4de2-b084-7776c6c87fd5"
      },
      "execution_count": 19,
      "outputs": [
        {
          "output_type": "stream",
          "name": "stdout",
          "text": [
            "25\n"
          ]
        }
      ]
    },
    {
      "cell_type": "code",
      "source": [
        "a=20\n",
        "a -=5\n",
        "print(a)"
      ],
      "metadata": {
        "colab": {
          "base_uri": "https://localhost:8080/"
        },
        "id": "vhobqfQfGCfh",
        "outputId": "ea1fbfff-349e-41ef-a2fe-d0dcbbec5f1b"
      },
      "execution_count": 20,
      "outputs": [
        {
          "output_type": "stream",
          "name": "stdout",
          "text": [
            "15\n"
          ]
        }
      ]
    },
    {
      "cell_type": "code",
      "source": [
        "# @title Relational Operator (<, >, <= ,>= ,== , !=)\n",
        "\n",
        "# <,>,<=,>=,==,!=\n",
        "\n",
        "a=5\n",
        "b=10\n",
        "if(a != b):\n",
        "  print(\"not equal\")\n",
        "else:\n",
        "  print(\"equal\")"
      ],
      "metadata": {
        "colab": {
          "base_uri": "https://localhost:8080/"
        },
        "id": "03D7BsHUGfUc",
        "outputId": "cd9859c0-402b-4b0d-b91b-33923a836ef1"
      },
      "execution_count": 21,
      "outputs": [
        {
          "output_type": "stream",
          "name": "stdout",
          "text": [
            "not equal\n"
          ]
        }
      ]
    },
    {
      "cell_type": "code",
      "source": [
        "a=10\n",
        "b=10\n",
        "if(a != b):\n",
        "  print(\"not equal\")\n",
        "else:\n",
        "  print(\"equal\")"
      ],
      "metadata": {
        "colab": {
          "base_uri": "https://localhost:8080/"
        },
        "id": "Gc4UFE7JHZGT",
        "outputId": "6b7b1c14-4bc0-4514-9743-c2d6755457cc"
      },
      "execution_count": 24,
      "outputs": [
        {
          "output_type": "stream",
          "name": "stdout",
          "text": [
            "equal\n"
          ]
        }
      ]
    },
    {
      "cell_type": "code",
      "source": [
        "a=15\n",
        "b=10\n",
        "if(a > b):\n",
        "  print(\"Yes\")\n",
        "else:\n",
        "  print(\"Not\")"
      ],
      "metadata": {
        "colab": {
          "base_uri": "https://localhost:8080/"
        },
        "id": "aw5-3B_RIWdY",
        "outputId": "35cf6259-7a63-4f50-efa9-3dc0b57fd3b0"
      },
      "execution_count": 26,
      "outputs": [
        {
          "output_type": "stream",
          "name": "stdout",
          "text": [
            "Yes\n"
          ]
        }
      ]
    },
    {
      "cell_type": "code",
      "source": [
        "a=9\n",
        "b=10\n",
        "if(a > b):\n",
        "  print(\"Yes\")\n",
        "else:\n",
        "  print(\"Not\")"
      ],
      "metadata": {
        "colab": {
          "base_uri": "https://localhost:8080/"
        },
        "id": "B9IVhha0Io4V",
        "outputId": "960b50cd-70c1-433c-db6f-b8a42da5642c"
      },
      "execution_count": 27,
      "outputs": [
        {
          "output_type": "stream",
          "name": "stdout",
          "text": [
            "Not\n"
          ]
        }
      ]
    },
    {
      "cell_type": "code",
      "source": [
        "# @title Logical Operator ( AND, OR, Not)\n",
        "\n",
        "# AND both condition has to be true then only it works\n",
        "\n",
        "a=12\n",
        "b=12\n",
        "if(a==12) and (b==12):\n",
        "  print(\"True\")"
      ],
      "metadata": {
        "colab": {
          "base_uri": "https://localhost:8080/"
        },
        "id": "rwsucgbFIrmV",
        "outputId": "cb1a5a4e-c110-4112-ea96-88fdd7890485"
      },
      "execution_count": 28,
      "outputs": [
        {
          "output_type": "stream",
          "name": "stdout",
          "text": [
            "true\n"
          ]
        }
      ]
    },
    {
      "cell_type": "code",
      "source": [
        "a=10\n",
        "b=12\n",
        "if(a==12) and (b==12):\n",
        "  print(\"True\")\n",
        "else:\n",
        "  print(\"False\")"
      ],
      "metadata": {
        "colab": {
          "base_uri": "https://localhost:8080/"
        },
        "id": "y2_tiV4IJYCD",
        "outputId": "bcc3d087-df7b-4241-e415-41f5698e31d8"
      },
      "execution_count": 30,
      "outputs": [
        {
          "output_type": "stream",
          "name": "stdout",
          "text": [
            "false\n"
          ]
        }
      ]
    },
    {
      "cell_type": "code",
      "source": [
        "a=12\n",
        "b=12\n",
        "c=12\n",
        "if(a==b) and (c==b):\n",
        "  print(\"True\")\n",
        "else:\n",
        "  print(\"False\")"
      ],
      "metadata": {
        "colab": {
          "base_uri": "https://localhost:8080/"
        },
        "id": "72FoYuSSJcHa",
        "outputId": "aba8154e-0bf2-4428-d194-429cae7d29ae"
      },
      "execution_count": 33,
      "outputs": [
        {
          "output_type": "stream",
          "name": "stdout",
          "text": [
            "true\n"
          ]
        }
      ]
    },
    {
      "cell_type": "code",
      "source": [
        "a=12\n",
        "b=12\n",
        "c=10\n",
        "if(a==b) and (c==b):\n",
        "  print(\"True\")\n",
        "else:\n",
        "  print(\"False\")"
      ],
      "metadata": {
        "colab": {
          "base_uri": "https://localhost:8080/"
        },
        "id": "vj0HerBcJm8d",
        "outputId": "fdec8313-b533-47e7-af79-edcf7cf5e4e4"
      },
      "execution_count": 34,
      "outputs": [
        {
          "output_type": "stream",
          "name": "stdout",
          "text": [
            "false\n"
          ]
        }
      ]
    },
    {
      "cell_type": "code",
      "source": [
        "# @title OR (Either One Has to be True)\n",
        "\n",
        "a=12\n",
        "b=12\n",
        "c=12\n",
        "if(a==b) or (c<b):\n",
        "  print(\"True\")\n",
        "else:\n",
        "  print(\"False\")"
      ],
      "metadata": {
        "colab": {
          "base_uri": "https://localhost:8080/"
        },
        "id": "CyiGJs4VJt7X",
        "outputId": "25c07c7f-5e51-4ff4-c291-5a9f4856e95d"
      },
      "execution_count": 35,
      "outputs": [
        {
          "output_type": "stream",
          "name": "stdout",
          "text": [
            "True\n"
          ]
        }
      ]
    },
    {
      "cell_type": "code",
      "source": [
        "a=12\n",
        "b=12\n",
        "c=12\n",
        "if(a<b) or (c<b):\n",
        "  print(\"True\")\n",
        "else:\n",
        "  print(\"False\")"
      ],
      "metadata": {
        "colab": {
          "base_uri": "https://localhost:8080/"
        },
        "id": "8NoUzxxHLFTc",
        "outputId": "d66a6306-b5e1-4781-d4fe-64bba32796a2"
      },
      "execution_count": 36,
      "outputs": [
        {
          "output_type": "stream",
          "name": "stdout",
          "text": [
            "False\n"
          ]
        }
      ]
    },
    {
      "cell_type": "code",
      "source": [
        "# @title BITWISE AND, OR, XOR Operators\n",
        "\n",
        "a=3\n",
        "b=5\n",
        "\n",
        "# a = a & b AND condition both has to be True(1 1)\n",
        "a = a & b\n",
        "print(a)\n"
      ],
      "metadata": {
        "colab": {
          "base_uri": "https://localhost:8080/"
        },
        "id": "XQ_p_ZeOLHrK",
        "outputId": "400a31a0-f51c-4194-a8e4-0b5cca91290c"
      },
      "execution_count": 39,
      "outputs": [
        {
          "output_type": "stream",
          "name": "stdout",
          "text": [
            "1\n"
          ]
        }
      ]
    },
    {
      "cell_type": "code",
      "source": [
        "a=13\n",
        "b=15\n",
        "\n",
        "# a = a & b AND condition both has to be True (1 1)\n",
        "a = a & b\n",
        "print(a)\n"
      ],
      "metadata": {
        "colab": {
          "base_uri": "https://localhost:8080/"
        },
        "id": "azKdNC0fMzBC",
        "outputId": "b0097069-ccbc-43d6-8a73-06c9219e71db"
      },
      "execution_count": 40,
      "outputs": [
        {
          "output_type": "stream",
          "name": "stdout",
          "text": [
            "13\n"
          ]
        }
      ]
    },
    {
      "cell_type": "code",
      "source": [
        "# @title OR operator\n",
        "\n",
        "a=3\n",
        "b=5\n",
        "\n",
        "# a = a | b OR condition either one has to be True (0 1,1 0,1 1)\n",
        "a = a | b\n",
        "print(a)\n"
      ],
      "metadata": {
        "colab": {
          "base_uri": "https://localhost:8080/"
        },
        "id": "j-uByvHlOOPH",
        "outputId": "2ad136ba-12f2-4118-85a0-b05b4c58d96e"
      },
      "execution_count": 41,
      "outputs": [
        {
          "output_type": "stream",
          "name": "stdout",
          "text": [
            "7\n"
          ]
        }
      ]
    },
    {
      "cell_type": "code",
      "source": [
        "a=23\n",
        "b=35\n",
        "\n",
        "# a = a | b OR condition either one has to be True (0 1,1 0,1 1)\n",
        "a = a | b\n",
        "print(a)\n"
      ],
      "metadata": {
        "colab": {
          "base_uri": "https://localhost:8080/"
        },
        "id": "jjzHUAqHO3JC",
        "outputId": "22b6b100-496b-455b-b9ee-7a9b9be7f792"
      },
      "execution_count": 42,
      "outputs": [
        {
          "output_type": "stream",
          "name": "stdout",
          "text": [
            "55\n"
          ]
        }
      ]
    },
    {
      "cell_type": "code",
      "source": [
        "# @title XOR Operator\n",
        "\n",
        "a=3\n",
        "b=5\n",
        "\n",
        "# a = a ^ b OR condition either one has to be True (0 1 & 1 0)\n",
        "#if both are false and both and true it is False like ( 0 0 & 1 1)\n",
        "a = a ^ b\n",
        "print(a)\n"
      ],
      "metadata": {
        "colab": {
          "base_uri": "https://localhost:8080/"
        },
        "id": "Q6hOA8F8Pckz",
        "outputId": "67755b7f-99d6-4569-cec8-fd6f52fa2e83"
      },
      "execution_count": 43,
      "outputs": [
        {
          "output_type": "stream",
          "name": "stdout",
          "text": [
            "6\n"
          ]
        }
      ]
    },
    {
      "cell_type": "code",
      "source": [
        "a=30\n",
        "b=90\n",
        "\n",
        "# a = a ^ b OR condition either one has to be True (0 1 & 1 0)\n",
        "#if both are false and both and true it is False like ( 0 0 & 1 1)\n",
        "a = a ^ b\n",
        "print(a)\n"
      ],
      "metadata": {
        "colab": {
          "base_uri": "https://localhost:8080/"
        },
        "id": "MWJR_n6dROlx",
        "outputId": "43a4e25f-ce30-49af-886b-b48ed5cf1dfd"
      },
      "execution_count": 44,
      "outputs": [
        {
          "output_type": "stream",
          "name": "stdout",
          "text": [
            "68\n"
          ]
        }
      ]
    },
    {
      "cell_type": "code",
      "source": [
        "# @title Rigth Shift\n",
        "\n",
        "a=3\n",
        "b=1\n",
        "# a = a >> b\n",
        "a = a >> b\n",
        "print(a)"
      ],
      "metadata": {
        "colab": {
          "base_uri": "https://localhost:8080/"
        },
        "id": "zz6F2rVcR2K9",
        "outputId": "cb746997-c883-4f39-bb06-91de09ffd8f4"
      },
      "execution_count": 46,
      "outputs": [
        {
          "output_type": "stream",
          "name": "stdout",
          "text": [
            "1\n"
          ]
        }
      ]
    },
    {
      "cell_type": "code",
      "source": [
        "a=3\n",
        "b=5\n",
        "# a = a >> b\n",
        "a = a >> b\n",
        "print(a)"
      ],
      "metadata": {
        "colab": {
          "base_uri": "https://localhost:8080/"
        },
        "id": "yqGVtQKaVcgh",
        "outputId": "f07768e6-4f93-4699-ac17-0bff77d49acc"
      },
      "execution_count": 47,
      "outputs": [
        {
          "output_type": "stream",
          "name": "stdout",
          "text": [
            "0\n"
          ]
        }
      ]
    },
    {
      "cell_type": "code",
      "source": [
        "# @title Left Shift\n",
        "\n",
        "a=3\n",
        "b=1\n",
        "# a = a << b\n",
        "a = a << b\n",
        "print(a)"
      ],
      "metadata": {
        "colab": {
          "base_uri": "https://localhost:8080/"
        },
        "id": "KqTl19K8WTYC",
        "outputId": "9194af06-b3d8-4f0b-b222-dea6d36edfe0"
      },
      "execution_count": 48,
      "outputs": [
        {
          "output_type": "stream",
          "name": "stdout",
          "text": [
            "6\n"
          ]
        }
      ]
    },
    {
      "cell_type": "code",
      "source": [
        "# @title Membership Operator ( in and not in )\n",
        "# in operator\n",
        "\n",
        "x=['Apple','Banana']\n",
        "print('Apple' in x)\n"
      ],
      "metadata": {
        "colab": {
          "base_uri": "https://localhost:8080/"
        },
        "id": "fkg3nEetXEvj",
        "outputId": "5d096e6b-8dbf-45fe-9a33-54ec56feddb6"
      },
      "execution_count": 49,
      "outputs": [
        {
          "output_type": "stream",
          "name": "stdout",
          "text": [
            "True\n"
          ]
        }
      ]
    },
    {
      "cell_type": "code",
      "source": [
        "x=['Apple','Banana']\n",
        "print('apple' in x)"
      ],
      "metadata": {
        "colab": {
          "base_uri": "https://localhost:8080/"
        },
        "id": "VOCp7g3MX5D1",
        "outputId": "479ac308-9e4d-4eae-8e33-78bbbec336fe"
      },
      "execution_count": 50,
      "outputs": [
        {
          "output_type": "stream",
          "name": "stdout",
          "text": [
            "False\n"
          ]
        }
      ]
    },
    {
      "cell_type": "code",
      "source": [
        "# @title Notin operator\n",
        "x=['Apple','Banana']\n",
        "print('apple' not in x)"
      ],
      "metadata": {
        "colab": {
          "base_uri": "https://localhost:8080/"
        },
        "id": "VBD9np9gX8zR",
        "outputId": "b1ceae7a-e1bf-4a1e-9c06-0d21af46ea49"
      },
      "execution_count": 51,
      "outputs": [
        {
          "output_type": "stream",
          "name": "stdout",
          "text": [
            "True\n"
          ]
        }
      ]
    },
    {
      "cell_type": "code",
      "source": [
        "x=['Apple','Banana']\n",
        "print('Apple' not in x)"
      ],
      "metadata": {
        "colab": {
          "base_uri": "https://localhost:8080/"
        },
        "id": "_8_KN-hoYH3w",
        "outputId": "bff51205-838f-4f25-ca59-ac3d4828bbd9"
      },
      "execution_count": 52,
      "outputs": [
        {
          "output_type": "stream",
          "name": "stdout",
          "text": [
            "False\n"
          ]
        }
      ]
    },
    {
      "cell_type": "code",
      "source": [
        "# @title Write a Prgm to Convert Temperature from celsius to Fahrenheit\n",
        "\n",
        "#hint : (0°C × 9/5) + 32 = 32°F\n",
        "\n",
        "temp = float(input())\n",
        "temp_f = temp*(9/5) + 32\n",
        "print(temp_f)"
      ],
      "metadata": {
        "colab": {
          "base_uri": "https://localhost:8080/"
        },
        "id": "WvHqkVNbYPvA",
        "outputId": "3bb52790-a2fa-4c76-9386-67d42d575b23"
      },
      "execution_count": 60,
      "outputs": [
        {
          "output_type": "stream",
          "name": "stdout",
          "text": [
            "30\n",
            "86.0\n"
          ]
        }
      ]
    },
    {
      "cell_type": "code",
      "source": [
        " # @title Write prgm to Convert Temperature from Fahrenhiet to Celsius\n",
        " #°C = (°F - 32) × 5/9\n",
        "\n",
        "temp_f = float(input())\n",
        "temp = (temp_f - 32) * 5/9\n",
        "print(temp)"
      ],
      "metadata": {
        "colab": {
          "base_uri": "https://localhost:8080/"
        },
        "id": "_IM1emI6ZEle",
        "outputId": "737b5b8f-a9b1-4afc-d8c6-4d553b0217b3"
      },
      "execution_count": 61,
      "outputs": [
        {
          "output_type": "stream",
          "name": "stdout",
          "text": [
            "86.0\n",
            "30.0\n"
          ]
        }
      ]
    },
    {
      "cell_type": "code",
      "source": [
        "# @title Condition statements ( if, else, elif )\n",
        "\n",
        "#if Condition\n",
        "\n",
        "a=4\n",
        "if(a%2 == 0):\n",
        "  print(\"even\")\n"
      ],
      "metadata": {
        "colab": {
          "base_uri": "https://localhost:8080/"
        },
        "id": "W1MNeTMHb4rk",
        "outputId": "45ac7aee-1d08-4b01-b840-33648ff79b6b"
      },
      "execution_count": 69,
      "outputs": [
        {
          "output_type": "stream",
          "name": "stdout",
          "text": [
            "even\n"
          ]
        }
      ]
    },
    {
      "cell_type": "code",
      "source": [
        "# @title Else\n",
        "a=5\n",
        "if(a%2 == 0):\n",
        "  print(\"even\")\n",
        "else:\n",
        "  print(\"Not Even\")"
      ],
      "metadata": {
        "colab": {
          "base_uri": "https://localhost:8080/"
        },
        "id": "rFvfFHOndtE7",
        "outputId": "b6c7f44c-8a30-4974-e6ae-8fb5007e472e"
      },
      "execution_count": 70,
      "outputs": [
        {
          "output_type": "stream",
          "name": "stdout",
          "text": [
            "Not Even\n"
          ]
        }
      ]
    },
    {
      "cell_type": "code",
      "source": [
        "# @title Elif\n",
        "a = 4\n",
        "if(a%2 == 0):\n",
        "  print(\"even\")\n",
        "elif(a%2 != 0):\n",
        "  print(\"odd\")"
      ],
      "metadata": {
        "colab": {
          "base_uri": "https://localhost:8080/"
        },
        "id": "9DLDxxBedwkr",
        "outputId": "ae71e7a0-71f0-452c-f2cf-8c0be3861c92"
      },
      "execution_count": 83,
      "outputs": [
        {
          "output_type": "stream",
          "name": "stdout",
          "text": [
            "even\n"
          ]
        }
      ]
    },
    {
      "cell_type": "code",
      "source": [
        "a = 5\n",
        "if(a%2 == 0):\n",
        "  print(\"even\")\n",
        "elif(a%2 != 0):\n",
        "  print(\"odd\")"
      ],
      "metadata": {
        "colab": {
          "base_uri": "https://localhost:8080/"
        },
        "id": "37R7Hdlfersm",
        "outputId": "af3f2997-21d6-4769-aad1-46f033c0f9f6"
      },
      "execution_count": 84,
      "outputs": [
        {
          "output_type": "stream",
          "name": "stdout",
          "text": [
            "odd\n"
          ]
        }
      ]
    },
    {
      "cell_type": "code",
      "source": [
        "# @title Write a prgm to show the PH Level of Nature\n",
        "# 1 - 3 Strong acid\n",
        "# 4 - 6 Weak acid\n",
        "# 7 Natural\n",
        "# 8 - 11 Weak Base\n",
        "# 12 - 14 Strong Base\n",
        "# Else not Valid PH Level\n",
        "\n",
        "Ph_level = int(input(\" Enter PH Level : \"))\n",
        "if(Ph_level >=1 and Ph_level <=3):\n",
        "  print(\"Strong Acid\")\n",
        "elif(Ph_level >=4 and Ph_level <=6):\n",
        "  print(\"Weak Acid\")\n",
        "elif(Ph_level == 7):\n",
        "  print(\"Netural\")\n",
        "elif(Ph_level >=8 and Ph_level <=11):\n",
        "  print(\"Weak Base\")\n",
        "elif(Ph_level >=12 and Ph_level <=14):\n",
        "  print(\"Strong Base\")\n",
        "else:\n",
        "  print(\"Invalid\")"
      ],
      "metadata": {
        "colab": {
          "base_uri": "https://localhost:8080/"
        },
        "id": "fBSWIKvZfbDf",
        "outputId": "fd9ea8aa-23e8-4ff1-aa6b-50849bef6122"
      },
      "execution_count": 94,
      "outputs": [
        {
          "output_type": "stream",
          "name": "stdout",
          "text": [
            " Enter PH Level : 7\n",
            "Netural\n"
          ]
        }
      ]
    },
    {
      "cell_type": "code",
      "source": [
        "# @title Display the months which has 30, 31 and 28/29 days\n",
        "\n",
        "month = int(input(\"Enter Month : \"))\n",
        "if(month == 1 or month == 3 or month == 5 or month == 7 or month == 8 or month == 10 or month == 12):\n",
        "  print(\"31 Days\")\n",
        "elif(month == 4 or month == 6 or month ==9 or month == 11):\n",
        "  print(\"30 Days\")\n",
        "elif(month == 2):\n",
        "  print(\"28/29 Days\")\n",
        "else:\n",
        "  print(\"Invalid\")"
      ],
      "metadata": {
        "colab": {
          "base_uri": "https://localhost:8080/"
        },
        "id": "NHVf0uNXh90G",
        "outputId": "e7b9b322-ebc3-4536-b1ad-86b39d276e9e"
      },
      "execution_count": 100,
      "outputs": [
        {
          "output_type": "stream",
          "name": "stdout",
          "text": [
            "Enter Month : 1\n",
            "31 Days\n"
          ]
        }
      ]
    },
    {
      "cell_type": "code",
      "source": [
        "# @title for Loop and while Loop\n",
        "for i in range(10):\n",
        "  print(i,\"Adarsh\") # to check range we should write print(i,Adarsh)\n"
      ],
      "metadata": {
        "colab": {
          "base_uri": "https://localhost:8080/"
        },
        "id": "7fap3yeHlfj5",
        "outputId": "e47b8605-da3a-46f5-bb2d-1e19439b43a8"
      },
      "execution_count": 104,
      "outputs": [
        {
          "output_type": "stream",
          "name": "stdout",
          "text": [
            "0 Adarsh\n",
            "1 Adarsh\n",
            "2 Adarsh\n",
            "3 Adarsh\n",
            "4 Adarsh\n",
            "5 Adarsh\n",
            "6 Adarsh\n",
            "7 Adarsh\n",
            "8 Adarsh\n",
            "9 Adarsh\n"
          ]
        }
      ]
    },
    {
      "cell_type": "code",
      "source": [
        "for i in range(2,21):\n",
        "  print(i)"
      ],
      "metadata": {
        "colab": {
          "base_uri": "https://localhost:8080/"
        },
        "id": "XTuvy1DbmAvW",
        "outputId": "58aa0299-071e-462f-c535-a81c17ebe64e"
      },
      "execution_count": 105,
      "outputs": [
        {
          "output_type": "stream",
          "name": "stdout",
          "text": [
            "2\n",
            "3\n",
            "4\n",
            "5\n",
            "6\n",
            "7\n",
            "8\n",
            "9\n",
            "10\n",
            "11\n",
            "12\n",
            "13\n",
            "14\n",
            "15\n",
            "16\n",
            "17\n",
            "18\n",
            "19\n",
            "20\n"
          ]
        }
      ]
    },
    {
      "cell_type": "code",
      "source": [
        "# @title Skip Two numbers\n",
        "\n",
        "for i in range(2,21,2): #start(2),stop(21),step(2)\n",
        "  print(i)"
      ],
      "metadata": {
        "colab": {
          "base_uri": "https://localhost:8080/"
        },
        "id": "CLDoM8O0mzfa",
        "outputId": "70638f94-413e-439d-eb52-80371702d29d"
      },
      "execution_count": 107,
      "outputs": [
        {
          "output_type": "stream",
          "name": "stdout",
          "text": [
            "2\n",
            "4\n",
            "6\n",
            "8\n",
            "10\n",
            "12\n",
            "14\n",
            "16\n",
            "18\n",
            "20\n"
          ]
        }
      ]
    },
    {
      "cell_type": "code",
      "source": [
        "a=\"DeadPool\"\n",
        "for i in a:\n",
        "  print(i)"
      ],
      "metadata": {
        "colab": {
          "base_uri": "https://localhost:8080/"
        },
        "id": "D1zL5HF9m-Dq",
        "outputId": "9548c474-27a7-4f5a-e2bf-1b381b3afbe2"
      },
      "execution_count": 117,
      "outputs": [
        {
          "output_type": "stream",
          "name": "stdout",
          "text": [
            "D\n",
            "e\n",
            "a\n",
            "d\n",
            "P\n",
            "o\n",
            "o\n",
            "l\n"
          ]
        }
      ]
    },
    {
      "cell_type": "code",
      "source": [
        "a=\"DeadPool\"\n",
        "for i in range(len(a)):\n",
        "  print(i)"
      ],
      "metadata": {
        "colab": {
          "base_uri": "https://localhost:8080/"
        },
        "id": "y0Rsbs5OnbCQ",
        "outputId": "dfea63f2-27d5-40a2-afd2-8bb031e31969"
      },
      "execution_count": 118,
      "outputs": [
        {
          "output_type": "stream",
          "name": "stdout",
          "text": [
            "0\n",
            "1\n",
            "2\n",
            "3\n",
            "4\n",
            "5\n",
            "6\n",
            "7\n"
          ]
        }
      ]
    },
    {
      "cell_type": "code",
      "source": [
        "# @title Write Prgm to store\"i will complete My homework 10 times\"\n",
        "#using list loop\n",
        "\n",
        "a =\" i Will complete My Home work\"\n",
        "for i in range(10):\n",
        "  print(i,a)\n"
      ],
      "metadata": {
        "colab": {
          "base_uri": "https://localhost:8080/"
        },
        "id": "2ZIReYx-oBx6",
        "outputId": "ebc55fd6-905e-4f05-a699-d8ec0c836fe3"
      },
      "execution_count": 145,
      "outputs": [
        {
          "output_type": "stream",
          "name": "stdout",
          "text": [
            "0  i Will complete My Home work\n",
            "1  i Will complete My Home work\n",
            "2  i Will complete My Home work\n",
            "3  i Will complete My Home work\n",
            "4  i Will complete My Home work\n",
            "5  i Will complete My Home work\n",
            "6  i Will complete My Home work\n",
            "7  i Will complete My Home work\n",
            "8  i Will complete My Home work\n",
            "9  i Will complete My Home work\n"
          ]
        }
      ]
    },
    {
      "cell_type": "code",
      "source": [
        "# using list loop\n",
        "l = []\n",
        "\n",
        "for i in range(10):\n",
        "    l.append(\"I will complete my homework\")\n",
        "\n",
        "\n",
        "for i in l:\n",
        "    print(i)\n"
      ],
      "metadata": {
        "colab": {
          "base_uri": "https://localhost:8080/"
        },
        "id": "ZRkhDBTjpSBg",
        "outputId": "8830a38a-a86b-4fea-de6f-7bf96f3cd02f"
      },
      "execution_count": 157,
      "outputs": [
        {
          "output_type": "stream",
          "name": "stdout",
          "text": [
            "I will complete my homework\n",
            "I will complete my homework\n",
            "I will complete my homework\n",
            "I will complete my homework\n",
            "I will complete my homework\n",
            "I will complete my homework\n",
            "I will complete my homework\n",
            "I will complete my homework\n",
            "I will complete my homework\n",
            "I will complete my homework\n"
          ]
        }
      ]
    },
    {
      "cell_type": "code",
      "source": [
        "\n",
        "# @title Write Prgm to count the no of words in essay max 250\n",
        "\n",
        "essay = input(\" Enter the para : \")\n",
        "for i in essay:\n",
        "  if \" \" in essay:\n",
        "    count = essay.count( \" \")\n",
        "print(count)\n",
        "if count >= 249:\n",
        "  print(\"correct the essay\")\n",
        "else:\n",
        "  print(\"essay should has less than 250 words\")\n",
        "\n"
      ],
      "metadata": {
        "colab": {
          "base_uri": "https://localhost:8080/"
        },
        "id": "Oi_i0AO3pvfs",
        "outputId": "4db2f56a-51dc-44f9-a974-7e56fc6a8d72"
      },
      "execution_count": 171,
      "outputs": [
        {
          "output_type": "stream",
          "name": "stdout",
          "text": [
            " Enter the para : how are you my friend\n",
            "4\n",
            "essay should has less than 250 words\n"
          ]
        }
      ]
    },
    {
      "cell_type": "code",
      "source": [
        "# @title Dimension Floor 12 titles and 9 titles prgm to display are using nested loops\n",
        "# use * to represent a title\n",
        "\n",
        "len = 12\n",
        "width = 9\n",
        "for i in range(width):\n",
        "  for j in range(len):\n",
        "    print('*',end= \" \")\n",
        "  print()"
      ],
      "metadata": {
        "colab": {
          "base_uri": "https://localhost:8080/"
        },
        "id": "tM5Uyta2tn6Z",
        "outputId": "bcfe0804-ecaa-451d-c44e-5bb7a7c6b1aa"
      },
      "execution_count": 174,
      "outputs": [
        {
          "output_type": "stream",
          "name": "stdout",
          "text": [
            "* * * * * * * * * * * * \n",
            "* * * * * * * * * * * * \n",
            "* * * * * * * * * * * * \n",
            "* * * * * * * * * * * * \n",
            "* * * * * * * * * * * * \n",
            "* * * * * * * * * * * * \n",
            "* * * * * * * * * * * * \n",
            "* * * * * * * * * * * * \n",
            "* * * * * * * * * * * * \n"
          ]
        }
      ]
    },
    {
      "cell_type": "code",
      "source": [
        "# @title Break statements\n",
        "\n",
        "colors=[\"red\",\"green\",\"yellow\",\"blue\"]\n",
        "for i in colors:\n",
        "  print(i)\n",
        "  if i==\"green\":\n",
        "    break"
      ],
      "metadata": {
        "colab": {
          "base_uri": "https://localhost:8080/"
        },
        "id": "mWX86gfQ0X35",
        "outputId": "b9b2b8e1-8a7a-4abd-f9d5-bb45a91eba16"
      },
      "execution_count": 175,
      "outputs": [
        {
          "output_type": "stream",
          "name": "stdout",
          "text": [
            "red\n",
            "green\n"
          ]
        }
      ]
    },
    {
      "cell_type": "code",
      "source": [
        "# @title Continue Statements means Skipping\n",
        "\n",
        "for i in \"data\":\n",
        "  if i == \"a\":\n",
        "    continue\n",
        "  print(i)\n",
        "print(\"this is end\")\n"
      ],
      "metadata": {
        "colab": {
          "base_uri": "https://localhost:8080/"
        },
        "id": "3aAQQ4Mj1hgE",
        "outputId": "7b48a804-6b7c-494c-f586-febd7fe34b5a"
      },
      "execution_count": 177,
      "outputs": [
        {
          "output_type": "stream",
          "name": "stdout",
          "text": [
            "d\n",
            "t\n",
            "this is end\n"
          ]
        }
      ]
    },
    {
      "cell_type": "code",
      "source": [
        "# @title Pass Statement means to hold the position\n",
        "\n",
        "x=10\n",
        "if x<=5:\n",
        "  pass\n",
        "else:\n",
        "  print(\"x is positive\")\n"
      ],
      "metadata": {
        "colab": {
          "base_uri": "https://localhost:8080/"
        },
        "id": "5Ft-Qulm2hN7",
        "outputId": "65691749-72df-47b8-84fa-68911d58ccdd"
      },
      "execution_count": 181,
      "outputs": [
        {
          "output_type": "stream",
          "name": "stdout",
          "text": [
            "x is positive\n"
          ]
        }
      ]
    },
    {
      "cell_type": "code",
      "source": [
        "x=4\n",
        "if x<=10:\n",
        "  pass\n",
        "else:\n",
        "  print(\"x is positive\")"
      ],
      "metadata": {
        "id": "bln3-1dq3lVp"
      },
      "execution_count": 182,
      "outputs": []
    },
    {
      "cell_type": "code",
      "source": [
        "# @title Write Prgm to remove whitespaces and make first character of each word capital\n",
        "\n",
        "# hint : \"i like programming\" to ILikeProgramming\n",
        "\n",
        "essay = input(\"Enter the Para : \")\n",
        "words = essay.split(' ')\n",
        "for i in words:\n",
        "  print(i.capitalize(),end = '')"
      ],
      "metadata": {
        "colab": {
          "base_uri": "https://localhost:8080/"
        },
        "id": "TyEcaYda3oXM",
        "outputId": "0e4f77e3-d9bd-43d8-8974-76604fdf9bb1"
      },
      "execution_count": 184,
      "outputs": [
        {
          "output_type": "stream",
          "name": "stdout",
          "text": [
            "Enter the Para : hi i am your friend\n",
            "HiIAmYourFriend"
          ]
        }
      ]
    },
    {
      "cell_type": "code",
      "source": [
        "# @title with spaces\n",
        "essay = input(\"Enter the Para : \")\n",
        "words = essay.split(' ')\n",
        "for i in words:\n",
        "  print(i.capitalize(),end = ' ')"
      ],
      "metadata": {
        "colab": {
          "base_uri": "https://localhost:8080/"
        },
        "id": "pTbFCsUA53rZ",
        "outputId": "b6f45e30-897f-41e3-cca3-b22c75e8e7fa"
      },
      "execution_count": 186,
      "outputs": [
        {
          "output_type": "stream",
          "name": "stdout",
          "text": [
            "Enter the Para : hi i am your friend\n",
            "Hi I Am Your Friend "
          ]
        }
      ]
    },
    {
      "cell_type": "code",
      "source": [
        "for i in range(3):\n",
        "  for j in range(5):\n",
        "    print('*',end= \" \")\n",
        "  print()"
      ],
      "metadata": {
        "colab": {
          "base_uri": "https://localhost:8080/"
        },
        "id": "-bMKL_TN6G05",
        "outputId": "b73c4819-5c78-45f1-8bf5-65b2fc6434c3"
      },
      "execution_count": 188,
      "outputs": [
        {
          "output_type": "stream",
          "name": "stdout",
          "text": [
            "* * * * * \n",
            "* * * * * \n",
            "* * * * * \n"
          ]
        }
      ]
    },
    {
      "cell_type": "code",
      "source": [
        "for i in range(3):\n",
        "  for j in range(5):\n",
        "    if(i==0 or i==2 or j==0 or j==4):\n",
        "      print('*',end= \" \")\n",
        "    else:\n",
        "      print(' ',end= \" \")\n",
        "  print()"
      ],
      "metadata": {
        "colab": {
          "base_uri": "https://localhost:8080/"
        },
        "id": "y60DKVd5_BE0",
        "outputId": "ce30799a-0c27-469d-a065-de640e3ef133"
      },
      "execution_count": 201,
      "outputs": [
        {
          "output_type": "stream",
          "name": "stdout",
          "text": [
            "* * * * * \n",
            "*       * \n",
            "* * * * * \n"
          ]
        }
      ]
    },
    {
      "cell_type": "code",
      "source": [
        "h = int(input(\"Enter the height : \"))\n",
        "for i in range(1,h+1):\n",
        "  for j in range(1,h-i+1):\n",
        "    print(' ',end= \" \")\n",
        "  for j in range(1,i+1):\n",
        "    print('*',end= \" \")\n",
        "  for j in range(1,i):\n",
        "    print('*',end= \" \")\n",
        "  print(\"\\n\")"
      ],
      "metadata": {
        "colab": {
          "base_uri": "https://localhost:8080/"
        },
        "id": "ebMk5KvnAU7N",
        "outputId": "d7df5c40-4348-46b2-adec-1b79e8992bb6"
      },
      "execution_count": 203,
      "outputs": [
        {
          "output_type": "stream",
          "name": "stdout",
          "text": [
            "Enter the height : 10\n",
            "                  * \n",
            "\n",
            "                * * * \n",
            "\n",
            "              * * * * * \n",
            "\n",
            "            * * * * * * * \n",
            "\n",
            "          * * * * * * * * * \n",
            "\n",
            "        * * * * * * * * * * * \n",
            "\n",
            "      * * * * * * * * * * * * * \n",
            "\n",
            "    * * * * * * * * * * * * * * * \n",
            "\n",
            "  * * * * * * * * * * * * * * * * * \n",
            "\n",
            "* * * * * * * * * * * * * * * * * * * \n",
            "\n"
          ]
        }
      ]
    },
    {
      "cell_type": "code",
      "source": [
        "# @title While Loop\n",
        "\n",
        "i=10\n",
        "while(i<=15):\n",
        "  print(i)\n",
        "  i=i+1\n"
      ],
      "metadata": {
        "colab": {
          "base_uri": "https://localhost:8080/"
        },
        "id": "ASQKt2gRD2cX",
        "outputId": "bbf74955-362c-48bd-d8e0-6b3d939a2222"
      },
      "execution_count": 204,
      "outputs": [
        {
          "output_type": "stream",
          "name": "stdout",
          "text": [
            "10\n",
            "11\n",
            "12\n",
            "13\n",
            "14\n",
            "15\n"
          ]
        }
      ]
    },
    {
      "cell_type": "code",
      "source": [
        "# @title Create a Python Prgm that can take Input and can print number of vowels present\n",
        "\n",
        "vowels = ['a','e','i','o','u']\n",
        "word = input(\"Enter a Word : \")\n",
        "count = 0\n",
        "for i in word:\n",
        "  if i in vowels:\n",
        "    count+=1\n",
        "print(count)\n",
        "\n",
        ""
      ],
      "metadata": {
        "colab": {
          "base_uri": "https://localhost:8080/"
        },
        "id": "VZXam-gJGEWe",
        "outputId": "7d37cffa-5453-4b55-970f-1d4a195df642"
      },
      "execution_count": 210,
      "outputs": [
        {
          "output_type": "stream",
          "name": "stdout",
          "text": [
            "Enter a Word : programming\n",
            "3\n"
          ]
        }
      ]
    },
    {
      "cell_type": "code",
      "source": [],
      "metadata": {
        "id": "dZNhumMqGhhC"
      },
      "execution_count": null,
      "outputs": []
    }
  ]
}