{
  "nbformat": 4,
  "nbformat_minor": 0,
  "metadata": {
    "colab": {
      "provenance": [],
      "authorship_tag": "ABX9TyNsx5NHYalwjAKeiMYVbzIp",
      "include_colab_link": true
    },
    "kernelspec": {
      "name": "python3",
      "display_name": "Python 3"
    },
    "language_info": {
      "name": "python"
    }
  },
  "cells": [
    {
      "cell_type": "markdown",
      "metadata": {
        "id": "view-in-github",
        "colab_type": "text"
      },
      "source": [
        "<a href=\"https://colab.research.google.com/github/AdarshKammar/Python/blob/main/chatbot1.ipynb\" target=\"_parent\"><img src=\"https://colab.research.google.com/assets/colab-badge.svg\" alt=\"Open In Colab\"/></a>"
      ]
    },
    {
      "cell_type": "code",
      "execution_count": null,
      "metadata": {
        "colab": {
          "base_uri": "https://localhost:8080/"
        },
        "id": "aMxAhIqm38dx",
        "outputId": "30f97761-9d93-429b-f707-231d9edcaf52"
      },
      "outputs": [
        {
          "output_type": "stream",
          "name": "stdout",
          "text": [
            "Hello! I'm a simple chatbot. Ask me something!\n",
            "> time\n",
            "The current time in IST is 05:48:47 PM IST+0530\n",
            "> joke\n",
            "Why don't scientists trust atoms? Because they make up everything!\n",
            "> hi\n",
            "Hi there!\n"
          ]
        }
      ],
      "source": [
        "import datetime\n",
        "import random\n",
        "import pytz  # For timezones\n",
        "\n",
        "def chatbot():\n",
        "    print(\"Hello! I'm a simple chatbot. Ask me something!\")\n",
        "\n",
        "    while True:\n",
        "        user_input = input(\"> \").lower().strip()\n",
        "\n",
        "        if user_input in [\"hello\", \"hi\", \"hey\", \"greetings\"]:\n",
        "            print(\"Hi there!\")\n",
        "\n",
        "        elif \"time\" in user_input:\n",
        "            try:\n",
        "                ist = pytz.timezone(\"Asia/Kolkata\")\n",
        "                now = datetime.datetime.now(ist)\n",
        "                current_time = now.strftime(\"%I:%M:%S %p %Z%z\")  # %I for 12-hour, %p for AM/PM\n",
        "                print(f\"The current time in IST is {current_time}\")\n",
        "            except pytz.exceptions.UnknownTimeZoneError:\n",
        "                print(\"I couldn't determine the time. There was an error with the timezone.\")\n",
        "\n",
        "\n",
        "        elif \"joke\" in user_input:  # More flexible joke check\n",
        "            jokes = [\n",
        "                \"Why don't scientists trust atoms? Because they make up everything!\",\n",
        "                \"What do you call a fish with no eyes? Fsh!\",\n",
        "                \"Why did the scarecrow win an award? Because he was outstanding in his field!\",\n",
        "                \"What's brown and sticky? A stick!\",\n",
        "                \"Why did the bicycle fall over? Because it was two tired!\"\n",
        "            ]\n",
        "            print(random.choice(jokes))\n",
        "\n",
        "        elif user_input in [\"bye\", \"goodbye\", \"exit\", \"quit\"]:\n",
        "            print(\"Goodbye!\")\n",
        "            break\n",
        "\n",
        "        else:\n",
        "            print(\"I didn't understand that. I can tell you the time or a joke.\")\n",
        "\n",
        "\n",
        "if __name__ == \"__main__\":\n",
        "    chatbot()"
      ]
    }
  ]
}